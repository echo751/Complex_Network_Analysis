{
 "cells": [
  {
   "cell_type": "markdown",
   "metadata": {},
   "source": [
    "<h1><b>Networks in socio-economic systems </b></h1>\n",
    "<h3>Prof Luis E C Rocha - luis.rocha@ugent.be</h3>\n",
    "<h4>Dept of Economics and Dept of Physics and Astronomy</h4>\n",
    "<h4>Ghent University, Belgium</h4>\n",
    "\n",
    "<h1><b>Week 3: Fitting power-laws & network measures</b></h1>\n",
    "\n",
    "<br>"
   ]
  },
  {
   "cell_type": "code",
   "execution_count": 1,
   "metadata": {},
   "outputs": [],
   "source": [
    "import pandas as pd\n",
    "import numpy as np\n",
    "from matplotlib import pyplot as plt\n",
    "import networkx as nx\n",
    "import igraph\n",
    "import powerlaw as pw\n",
    "from networkx.utils import powerlaw_sequence"
   ]
  },
  {
   "cell_type": "markdown",
   "metadata": {},
   "source": [
    "<h2><b>5.</b> (1:45-2:45h) Fitting power-laws</h2>\n",
    "\n",
    "- Power-laws of the form $f(k)=C k^{-\\alpha}$ appear often on network analysis.\n",
    "- The standard way of fitting a power-law to real data is by taking the log on both axes and fitting a straight line, i.e.\n",
    "    - $f(k)=C k^{-\\alpha}$\n",
    "    - $\\log(f(k)) = \\log(C) - \\alpha \\log(k)$ \n",
    "    - $Y = D - \\alpha X$\n",
    "    - $Y := \\log(f(k))$\n",
    "    - $X := \\log(k)$\n",
    "    - $D := \\log(C) \\rightarrow C = e^{D}$\n",
    "    - $\\alpha$ is the exponent of the power-law\n",
    "<br><br>\n",
    "    - these methods might be useful \"import numpy as np\" | \"D = np.log10(C)\" | \"C = np.exp(D)\"\n",
    "<br><br>\n",
    "- Some tricks to improve the quality of the fitting:\n",
    "    - use the cumulative distribution (preferred, see lecture 2). In this case, you must fit the function: $\\text{cum}(f(k)) = F(k) = A k^{-\\alpha+1}$\n",
    "    - or use log-bins (i.e. (0-1], (1,2], (2,4], (4, 8], (8, 16], .... ) instead of decimal bins (i.e. (0-2], (2,4], (4,6], (6, 8], ....)\n",
    "<br><br>\n",
    "- ***For theory, you can check http://www-personal.umich.edu/~mejn/courses/2006/cmplxsys899/powerlaws.pdf\n",
    "- Sometimes a power-law with exponential cutoff (i.e. $f(k)= \\frac{C} {k^{\\alpha}} e^{-\\beta k}$) or a log-normal (i.e. $f(x) = \\frac{1}{\\sigma x\\sqrt{2\\pi}} e^{-(\\log(x) - \\mu)^2/2 \\sigma^2}$) are more meaningful than a pure power-law!\n",
    "<br><br>\n",
    "- There is a module to help fitting power-laws called \"powerlaw\", go to: https://pypi.org/project/powerlaw/\n",
    "- You can install the module using Anaconda - environments\n",
    "- You can install the module by opening the terminal and typing: conda install -c conda-forge powerlaw\n",
    "- ***For more details on using this module, see this paper: https://journals.plos.org/plosone/article?id=10.1371/journal.pone.0085777\n",
    "    - be careful because some methods/options from this module might not work in newer versions of Python... (3.x)\n",
    "    - this limitation is specially true if you want to add features to plots\n"
   ]
  },
  {
   "cell_type": "markdown",
   "metadata": {},
   "source": [
    "<h3> 1. Degree Distribution  </h3> "
   ]
  },
  {
   "cell_type": "code",
   "execution_count": 2,
   "metadata": {},
   "outputs": [],
   "source": [
    "# First read the network from file - this format is edge list\n",
    "A = nx.read_weighted_edgelist('/Users/echo/Desktop/Network/data/week2_collaboration.edgelist.txt', comments = '#', create_using=nx.Graph(), nodetype = int, delimiter=',')#, encoding='utf-8')\n",
    "B = nx.read_weighted_edgelist('/Users/echo/Desktop/Network/data/week2_email.edgelist.txt',comments = '#', nodetype = int,delimiter=',')\n",
    "C = nx.read_weighted_edgelist('/Users/echo/Desktop/Network/data/week2_phonecalls.edgelist.txt',comments = '#', nodetype = int,delimiter=',')\n",
    "\n",
    "# Remove multiple edges\n",
    "A = nx.Graph(A) \n",
    "B = nx.Graph(B) \n",
    "C = nx.Graph(C) \n",
    "\n",
    "# Remove self-loops\n",
    "A.remove_edges_from( nx.selfloop_edges(A) )     \n",
    "B.remove_edges_from( nx.selfloop_edges(B) )   \n",
    "C.remove_edges_from( nx.selfloop_edges(C) )   \n"
   ]
  },
  {
   "cell_type": "code",
   "execution_count": 3,
   "metadata": {
    "scrolled": true
   },
   "outputs": [
    {
     "name": "stdout",
     "output_type": "stream",
     "text": [
      "avg. email: 8.5462\n",
      "avg. phone: 3.2527\n",
      "avg. collaboration: 3.4741\n"
     ]
    }
   ],
   "source": [
    "# calculate the average degree: sum of degree/ number of nodes \n",
    "ka = [val for (node, val) in nx.degree(A)]               # make a list of degrees for all nodes\n",
    "\n",
    "print('avg. email: %.4f'% (sum(ka)/nx.number_of_nodes(A)) )  # calculat the average degree of the network\n",
    "\n",
    "kb = [value for (ind,value) in nx.degree(B)]\n",
    "print('avg. phone: %.4f'% (sum(kb)/nx.number_of_nodes(B)) )  # calculat the average degree of the network\n",
    "\n",
    "kc = [value for (ind,value) in nx.degree(C)]\n",
    "print('avg. collaboration: %.4f'% (sum(kc)/nx.number_of_nodes(C)) )  # calculat the average degree of the network\n"
   ]
  },
  {
   "cell_type": "code",
   "execution_count": null,
   "metadata": {},
   "outputs": [],
   "source": [
    "# 度分布的函数\n",
    "\n",
    "def get_pdf(G,kmin,kmax):\n",
    "    k=list(range(kmin,kmax+1)) # 所有可能的度值\n",
    "    n=len(G.nodes())\n",
    "    \n",
    "    pk=[]\n",
    "    for ki in k:\n",
    "        c=0\n",
    "        for i in G.nodes():\n",
    "            if G.degree(i)==ki:\n",
    "                c+=1\n",
    "                pk.append(c/n)\n",
    "                \n",
    "    return k,pk \n",
    "    # k 度值， pk: normalized distribution of k "
   ]
  },
  {
   "cell_type": "code",
   "execution_count": 4,
   "metadata": {},
   "outputs": [],
   "source": [
    "# histogram() 去掉了重复值\n",
    "def histogram(O):\n",
    "    # Make the histogram of degree, i.e. how many nodes have a certain degree\n",
    "    d_deg = nx.degree_histogram(O) # get the degree for all nodes \n",
    "    d_deg_n = [x / O.number_of_nodes() for x in d_deg] # normalized \n",
    "    c_deg = list(range(0,len(d_deg)))\n",
    "    \n",
    "    return c_deg,d_deg_n\n",
    "    "
   ]
  },
  {
   "cell_type": "code",
   "execution_count": 5,
   "metadata": {
    "scrolled": true
   },
   "outputs": [
    {
     "data": {
      "text/plain": [
       "<matplotlib.legend.Legend at 0x7fce81557970>"
      ]
     },
     "execution_count": 5,
     "metadata": {},
     "output_type": "execute_result"
    },
    {
     "data": {
      "image/png": "[encoded data removed]",
      "text/plain": [
       "<Figure size 1080x432 with 3 Axes>"
      ]
     },
     "metadata": {
      "needs_background": "light"
     },
     "output_type": "display_data"
    }
   ],
   "source": [
    "# plot\n",
    "xa,ya = histogram(A)\n",
    "xb,yb = histogram(B)\n",
    "xc,yc = histogram(C)\n",
    "\n",
    "plt.figure(figsize=(15,6))\n",
    "plt.subplot(221)\n",
    "plt.plot(xa,ya,'ro',label='citation')\n",
    "plt.xscale('log')\n",
    "plt.yscale('log')\n",
    "plt.legend(loc='upper right')\n",
    "\n",
    "\n",
    "plt.subplot(222)\n",
    "plt.plot(xb,yb,'ro',label='email')\n",
    "plt.xscale('log')\n",
    "plt.yscale('log')\n",
    "plt.legend(loc='upper right')\n",
    "# 可以粗略拟合： 2x +b （ 设置斜率=2）\n",
    "x= list(range(1,1000))\n",
    "y=[ 1/(x**2) for x in x]\n",
    "plt.plot(x,y,'g--')\n",
    "\n",
    "\n",
    "plt.subplot(223)\n",
    "plt.plot(xc,yc,'ro',label='phonecall')\n",
    "plt.yscale('log')\n",
    "plt.xscale('log')\n",
    "plt.legend(loc='upper right')\n"
   ]
  },
  {
   "cell_type": "markdown",
   "metadata": {},
   "source": [
    " ==> only email follow power law distribution with long tail of popular email "
   ]
  },
  {
   "cell_type": "markdown",
   "metadata": {},
   "source": [
    "<h3> 2. Power law distribution </h3> \n",
    "import powelaw  我们需要精确的模拟power law "
   ]
  },
  {
   "cell_type": "code",
   "execution_count": 6,
   "metadata": {
    "scrolled": true
   },
   "outputs": [
    {
     "name": "stdout",
     "output_type": "stream",
     "text": [
      "B- kmax: 6553\n",
      "kmin: 81.0\n",
      "Exponent: 2.8932255803934517\n",
      "Exponent error: 0.1200\n",
      "D-Kolmogorov-Smirnov: 0.028810583944537838\n"
     ]
    },
    {
     "name": "stderr",
     "output_type": "stream",
     "text": [
      "Calculating best minimal value for power law fit\n",
      "/Applications/anaconda3/lib/python3.8/site-packages/powerlaw.py:699: RuntimeWarning: invalid value encountered in true_divide\n",
      "  (CDF_diff**2) /\n"
     ]
    }
   ],
   "source": [
    "# 需要node 所有degree 不需要过滤\n",
    "print('B- kmax:',max(kb)) # 最大 degree\n",
    "\n",
    "fit = pw.Fit(kb) \n",
    "kmin = fit.power_law.xmin\n",
    "print('kmin:',kmin) # 精确的拟合下的最小度 （ 度下限）\n",
    "print('Exponent:',fit.alpha)  # gamma : # Exponent of the power-law alpha - 2.89 和之前的拟合斜率 2差距比较大\n",
    "\n",
    "# sigma is the standard error of the exponent alpha, i.e. \"alpha +- sigma\". \n",
    "#To calculate the confidence interval (CI) from the error \n",
    "#see https://www.ncbi.nlm.nih.gov/pmc/articles/PMC1255808/  C.I (95%)= [alpha +- 1.95*error] \n",
    "print(\"Exponent error: %.4f\" % fit.sigma )\n",
    "\n",
    "print('D-Kolmogorov-Smirnov:',fit.D) \n",
    "# D: (goodness of fit) the fit function finds the minimal Kolmogorov-Smirnov \"distance\" between \n",
    "# the data and the fit to a power-law. \n",
    "#It is a measure of difference between two distributions. \n",
    "#For more details, see https://www.itl.nist.gov/div898/handbook/eda/section3/eda35g.htm\n",
    "\n"
   ]
  },
  {
   "cell_type": "code",
   "execution_count": 11,
   "metadata": {
    "scrolled": false
   },
   "outputs": [
    {
     "data": {
      "text/plain": [
       "<AxesSubplot:>"
      ]
     },
     "execution_count": 11,
     "metadata": {},
     "output_type": "execute_result"
    },
    {
     "data": {
      "image/png": "[encoded data removed]",
      "text/plain": [
       "<Figure size 432x288 with 1 Axes>"
      ]
     },
     "metadata": {
      "needs_background": "light"
     },
     "output_type": "display_data"
    }
   ],
   "source": [
    "# Simulate PDF after fitting data ( 拟合之后)\n",
    "fig = fit.plot_pdf(marker='o',linewidth=1)  # Plot the original values considering the output of the fitting function, specially x_min. It also renormalises the distributions\n",
    "fit.power_law.plot_pdf(color='r',linestyle='-',ax=fig) # Plot a power-law function using the fitted values - calculated above by \"fit=pw.Fit(k)\" above\n",
    "\n",
    "\n",
    "#x = list( range(1,1000) )\n",
    "#y = list( [ 10000/(i**2.89) for i in x ] )   # this is a list comprehension -> for each \"i\" in the list \"x\", output 1/(i**2.5)\n",
    "#plt.plot(x, y, 'r--')\n",
    "\n"
   ]
  },
  {
   "cell_type": "code",
   "execution_count": 9,
   "metadata": {
    "scrolled": false
   },
   "outputs": [
    {
     "data": {
      "text/plain": [
       "[<matplotlib.lines.Line2D at 0x7fd4c1bd6d30>]"
      ]
     },
     "execution_count": 9,
     "metadata": {},
     "output_type": "execute_result"
    },
    {
     "data": {
      "image/png": "[encoded data removed]",
      "text/plain": [
       "<Figure size 432x288 with 1 Axes>"
      ]
     },
     "metadata": {
      "needs_background": "light"
     },
     "output_type": "display_data"
    }
   ],
   "source": [
    "# 拟合前\n",
    "\n",
    "# To plot the pdf and the cumulative pdf of the degree\n",
    "pw.plot_pdf(kb,marker='o',linewidth=1) # you can add \"linear_bins=True\". Default is logarithmic binning\n",
    "pw.plot_ccdf(kb)\n",
    "\n",
    "#---------------------------------------------------------------------------------------------------------------------\n",
    "# function pw.plot_ccdf(k) is equivalent to:\n",
    "\n",
    "cum_d = len(xb)*[0]\n",
    "i = 1\n",
    "while i < len(xb):    \n",
    "    cum_d[i] = sum( yb[i:len(yb)] )         # calculate the cumulative distribution for each value of degree k\n",
    "    i += 1                                          # equivalent to i = i + 1\n",
    "plt.plot(xb, cum_d, 'g+')                        # for the cumulative plot using green crosses\n",
    "plt.plot(xb, yb, 'r+')                      # for the pdf plot using red crosses\n",
    "#---------------------------------------------------------------------------------------------------------------------"
   ]
  },
  {
   "cell_type": "markdown",
   "metadata": {},
   "source": [
    "<h3> 3. Power law sequence  </h3> \n",
    "符合power law的 degree sequence"
   ]
  },
  {
   "cell_type": "code",
   "execution_count": 13,
   "metadata": {},
   "outputs": [
    {
     "data": {
      "text/plain": [
       "[1, 1, 1, 1, 1, 1, 14, 1, 2, 3, 1, 2, 1, 1, 1, 1, 1, 1, 1, 1]"
      ]
     },
     "execution_count": 13,
     "metadata": {},
     "output_type": "execute_result"
    }
   ],
   "source": [
    "# from networkx.utils import powerlaw_sequence\n",
    "# 给定exponent 和 degree 个数 => 生成符合power law的 度序列\n",
    "degree_seq = powerlaw_sequence(10000,exponent=2.5) # 10000个degree sequence with exponent =2,5\n",
    "int_deg =[int(i)for i in degree_seq]\n",
    "int_deg[:20]"
   ]
  },
  {
   "cell_type": "code",
   "execution_count": 24,
   "metadata": {},
   "outputs": [],
   "source": [
    "# 也可以直接用pw.Power_Law () function \n",
    "\n",
    "# Advanced: It is also possible to generate values (sample values) from a given power-law distribution\n",
    "# I recommend however to implement the method directly, as explained in Table D.1 (p40) in this paper: https://arxiv.org/abs/0706.1062\n",
    "\n",
    "theoretical_distribution = pw.Power_Law(xmin=5.0, parameters=[2.5])   # here, one defines the parameters of the theoretical power-law distribution, i.e. x_min and exponent \\alpha \n",
    "degree_seq = theoretical_distribution.generate_random(10000)       # here, one generates 10000 samples\n",
    "\n",
    "# degree_seq 是根据xmin 和 exponent 生成的 degree sequence \n"
   ]
  },
  {
   "cell_type": "code",
   "execution_count": 25,
   "metadata": {},
   "outputs": [
    {
     "name": "stderr",
     "output_type": "stream",
     "text": [
      "Calculating best minimal value for power law fit\n",
      "/Applications/anaconda3/lib/python3.8/site-packages/powerlaw.py:699: RuntimeWarning: invalid value encountered in true_divide\n",
      "  (CDF_diff**2) /\n"
     ]
    },
    {
     "name": "stdout",
     "output_type": "stream",
     "text": [
      "kmin\n",
      "Exponent : 2.5230\n",
      "Exponent error: 0.0194\n",
      "D-Kolmogorov-Smirnov: 0.0058114711871003755\n"
     ]
    }
   ],
   "source": [
    "# 得到 拟合后的一些参数：\n",
    "fit = pw.Fit(degree_seq)\n",
    "\n",
    "print(\"kmin\" % fit.power_law.xmin )\n",
    "print(\"Exponent : %.4f\" % fit.power_law.alpha )\n",
    "print(\"Exponent error: %.4f\" % fit.sigma )\n",
    "print('D-Kolmogorov-Smirnov:',fit.D) "
   ]
  },
  {
   "cell_type": "code",
   "execution_count": 26,
   "metadata": {
    "scrolled": false
   },
   "outputs": [
    {
     "data": {
      "text/plain": [
       "<AxesSubplot:>"
      ]
     },
     "execution_count": 26,
     "metadata": {},
     "output_type": "execute_result"
    },
    {
     "data": {
      "image/png": "[encoded data removed]",
      "text/plain": [
       "<Figure size 432x288 with 1 Axes>"
      ]
     },
     "metadata": {
      "needs_background": "light"
     },
     "output_type": "display_data"
    },
    {
     "data": {
      "image/png": "[encoded data removed]",
      "text/plain": [
       "<Figure size 432x288 with 1 Axes>"
      ]
     },
     "metadata": {
      "needs_background": "light"
     },
     "output_type": "display_data"
    }
   ],
   "source": [
    "# 拟合后 plot :\n",
    "fig = fit.plot_pdf(marker='o',linewidth=1)  # Plot the original values considering the output of the fitting function, specially x_min. It also renormalises the distributions\n",
    "fit.power_law.plot_pdf(color='r',linestyle='-',ax=fig) # Plot a power-law function using the fitted values - calculated above by \"fit=pw.Fit(k)\" above\n",
    "fit.power_law.plot_cdf()"
   ]
  },
  {
   "cell_type": "markdown",
   "metadata": {},
   "source": [
    "<h3> 4. Compare with Log-normal and Exponential</h3>\n",
    "- Is power-law the best distribution for your data?\n",
    "- It is often relevant to compare the power-law with the log-normal and with the exponential\n"
   ]
  },
  {
   "cell_type": "code",
   "execution_count": 23,
   "metadata": {},
   "outputs": [
    {
     "name": "stdout",
     "output_type": "stream",
     "text": [
      "R: 0.10 / p-value: 0.1874\n"
     ]
    }
   ],
   "source": [
    "# compare power law with log_normal \n",
    "R, p = fit.distribution_compare('power_law', 'lognormal')\n",
    "print(\"R: %.2f / p-value: %.4f\" %(R, p))\n",
    "\n",
    "#R is the loglikelihood ratio between the two candidate distributions - i.e. the goodness of fit of two competing statistical models \n",
    "#If positive, the data is more likely in the first distribution; \n",
    "#if negative, the data is more likely in the second distribution.\n",
    "#The significance value for that direction is p. \n",
    "#p <0.05 indicates that the two models are not equal and \n",
    "# thus either the first or second distribution is correct (given the direction by R)\n",
    "\n",
    "\n",
    "# compare power law with others\n",
    "#R, p = fit.distribution_compare('power_law', 'exponential')\n",
    "#R, p = fit.distribution_compare('power_law', 'stretched_exponential')   # stretched exponential -> exp(-x^{\\beta})\n",
    "#R, p = fit.distribution_compare('power_law', 'truncated_power_law')\n",
    "\n"
   ]
  },
  {
   "cell_type": "code",
   "execution_count": 163,
   "metadata": {},
   "outputs": [
    {
     "name": "stdout",
     "output_type": "stream",
     "text": [
      "5.043841791852874\n"
     ]
    },
    {
     "name": "stderr",
     "output_type": "stream",
     "text": [
      "Calculating best minimal value for power law fit\n"
     ]
    },
    {
     "name": "stdout",
     "output_type": "stream",
     "text": [
      "x_min: 5.007 / alpha: 2.514 \n"
     ]
    },
    {
     "data": {
      "text/plain": [
       "<AxesSubplot:>"
      ]
     },
     "execution_count": 163,
     "metadata": {},
     "output_type": "execute_result"
    },
    {
     "data": {
      "image/png": "[encoded data removed]",
      "text/plain": [
       "<Figure size 432x288 with 1 Axes>"
      ]
     },
     "metadata": {
      "needs_background": "light"
     },
     "output_type": "display_data"
    }
   ],
   "source": []
  },
  {
   "cell_type": "code",
   "execution_count": null,
   "metadata": {},
   "outputs": [],
   "source": [
    "# You can access the generated samples\n",
    "samples = list(simulated_data)                                        # list of generated values (i.e. generated degrees \"k\") in the sample\n",
    "print(samples[0])                                                     # one value from the sample\n",
    "\n",
    "# Fit a power-law to the distribution of the generated values in the sample - this is used to double check if the sample generates correct values\n",
    "fit = pw.Fit(simulated_data)\n",
    "print( \"x_min: %.3f / alpha: %.3f \"% (fit.power_law.xmin, fit.power_law.alpha) )\n",
    "\n",
    "# Plot the simulated data and the fitted data\n",
    "pw.plot_pdf(simulated_data)                          # plot of the simulated data\n",
    "fit.power_law.plot_pdf()                             # plot of the best (power-law) fit to the simulated data"
   ]
  },
  {
   "cell_type": "markdown",
   "metadata": {},
   "source": [
    "<h3> Creating simulated data  </h3>\n",
    "\n",
    "Individual Distribution objects can generate random data points\n",
    "with the function generate_random. These Distribution objects\n",
    "can be called from a Fit object or created manually."
   ]
  },
  {
   "cell_type": "code",
   "execution_count": 12,
   "metadata": {},
   "outputs": [],
   "source": [
    "# fit = pw.Fit(kb) \n",
    "# you can directly generate random network with 10000 \n",
    "simitated_data = fit.power_law.generate_random(10000)\n"
   ]
  },
  {
   "cell_type": "code",
   "execution_count": 16,
   "metadata": {},
   "outputs": [
    {
     "name": "stderr",
     "output_type": "stream",
     "text": [
      "Calculating best minimal value for power law fit\n",
      "/Applications/anaconda3/lib/python3.8/site-packages/powerlaw.py:699: RuntimeWarning: invalid value encountered in true_divide\n",
      "  (CDF_diff**2) /\n"
     ]
    },
    {
     "name": "stdout",
     "output_type": "stream",
     "text": [
      "5.888714243272156 2.504304493265505\n"
     ]
    }
   ],
   "source": [
    "# or you can generate random network with fixed xmin and parameters\n",
    "theoretical_distribution = pw.Power_Law(xmin = 5.0,parameters = [2.5])\n",
    "simulated_data=theoretical_distribution.generate_random(10000) \n",
    "\n",
    "\n",
    "fit = pw.Fit(simulated_data)\n",
    "print(fit.power_law.xmin,fit.alpha) # 5.8 & 2.5\n"
   ]
  },
  {
   "cell_type": "code",
   "execution_count": 18,
   "metadata": {},
   "outputs": [
    {
     "data": {
      "text/plain": [
       "<AxesSubplot:>"
      ]
     },
     "execution_count": 18,
     "metadata": {},
     "output_type": "execute_result"
    },
    {
     "data": {
      "image/png": "[encoded data removed]",
      "text/plain": [
       "<Figure size 432x288 with 1 Axes>"
      ]
     },
     "metadata": {
      "needs_background": "light"
     },
     "output_type": "display_data"
    }
   ],
   "source": [
    "fit.plot_pdf()\n",
    "fit.plot_ccdf()"
   ]
  },
  {
   "cell_type": "code",
   "execution_count": null,
   "metadata": {},
   "outputs": [],
   "source": []
  },
  {
   "cell_type": "code",
   "execution_count": null,
   "metadata": {},
   "outputs": [],
   "source": []
  },
  {
   "cell_type": "markdown",
   "metadata": {},
   "source": [
    "<h2><b>7.</b> (2:30-2:45h) Hands on</h2>\n",
    "<h3> Comparing Networks</h3>\n",
    "\n",
    "- Go to: http://networksciencebook.com/translations/en/resources/data.html or https://users.ugent.be/~lcorread/courses/week2/\n",
    "\n",
    "- Download the networks (* you can skip the biological ones (5 and 8); the actor network (1) is very large and thus slow for the calculations)\n",
    "<br>1) Actor\n",
    "<br>2) Collaboration\n",
    "<br>3) Internet\n",
    "<br>4) Power Grid\n",
    "<br>5) Protein\n",
    "<br>6) Phone Calls\n",
    "<br>7) Citation\n",
    "<br>8) Metabolic\n",
    "<br>9) Email\n",
    "<br>10) WWW\n",
    "\n",
    "- Ps: Nodes are labelled from 0 continuously. Each line contains two node labels A and B, representing either a directed link A->B or an undirected link A-B. Undirected links appear once in the file.\n",
    "\n",
    "<h3> Proposed analysis</h3>\n",
    "\n",
    "- Plot the degree distribution of each network\n",
    "- Plot the cumulative degree distribution of each network\n",
    "- Estimate the $x_{min}$ and the exponent $\\alpha$ of each network\n",
    "    - Would be OK to discard nodes with degree $k$ below $x_{min}$? What that means?\n",
    "<br><br>\n",
    "- Compare the goodness of fit between power-law and exponential, and power-law and log-normal\n",
    "    - What does it mean that the distribution better fits to a power-law than an exponential?\n",
    "- Are there any trends in the fitting parameters for different classes (social vs. technological) of networks?\n",
    "- Comparatively, what can you say about the distribution of degrees? any practical insights?\n",
    "<br><br>\n",
    "- Advanced analyses\n",
    "    - Repeat the fitting exercise and analysis for other network measures, e.g. clustering coefficient, k-cores, number of triangles\n",
    "    - Are the exponents of the distributions the same for all networks?\n",
    "    - Check the original paper or read online other functionalities available in the powerlaw module/library\n",
    "        - Can you fix $x_{min}$ or $x_{max}$?\n",
    "        - Can you test the power-law against other competing distributions (besides exponential and log-normal)?\n"
   ]
  }
 ],
 "metadata": {
  "kernelspec": {
   "display_name": "Python 3 (ipykernel)",
   "language": "python",
   "name": "python3"
  },
  "language_info": {
   "codemirror_mode": {
    "name": "ipython",
    "version": 3
   },
   "file_extension": ".py",
   "mimetype": "text/x-python",
   "name": "python",
   "nbconvert_exporter": "python",
   "pygments_lexer": "ipython3",
   "version": "3.8.8"
  }
 },
 "nbformat": 4,
 "nbformat_minor": 4
}
